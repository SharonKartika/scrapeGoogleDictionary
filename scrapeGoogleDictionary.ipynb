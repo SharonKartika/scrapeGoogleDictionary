{
 "cells": [
  {
   "cell_type": "code",
   "execution_count": 1,
   "metadata": {},
   "outputs": [],
   "source": [
    "import requests\n",
    "from bs4 import BeautifulSoup"
   ]
  },
  {
   "cell_type": "code",
   "execution_count": 2,
   "metadata": {},
   "outputs": [],
   "source": [
    "searchterm = \"extreme\""
   ]
  },
  {
   "cell_type": "code",
   "execution_count": 3,
   "metadata": {},
   "outputs": [],
   "source": [
    "url = \"https://www.google.com/search?channel=fs&client=ubuntu&q=\"+\\\n",
    "    searchterm+\\\n",
    "    \"+meaning\""
   ]
  },
  {
   "cell_type": "code",
   "execution_count": 4,
   "metadata": {},
   "outputs": [],
   "source": [
    "r = requests.get(url)"
   ]
  },
  {
   "cell_type": "code",
   "execution_count": 5,
   "metadata": {},
   "outputs": [],
   "source": [
    "soup=BeautifulSoup(r.content, 'html.parser')"
   ]
  },
  {
   "cell_type": "code",
   "execution_count": 6,
   "metadata": {},
   "outputs": [],
   "source": [
    "s = soup.find_all(\"ol\")\n",
    "lis = []\n",
    "for i in range(len(s)):\n",
    "    lis += s[i].find_all(\"li\")"
   ]
  },
  {
   "cell_type": "code",
   "execution_count": 7,
   "metadata": {},
   "outputs": [
    {
     "name": "stdout",
     "output_type": "stream",
     "text": [
      "reaching a high or the highest degree; very great.\n",
      "_'extreme cold'_\n",
      "\n",
      "furthest from the centre or a given point.\n",
      "_'the extreme north-west of Scotland'_\n",
      "\n",
      "either of two abstract things that are as different from each other as possible.\n",
      "_'we represented opposite extremes of college society—he a member of the Old Guard, I one of the radicals'_\n",
      "\n",
      "the subject or predicate in a proposition, or the major or minor term in a syllogism (as contrasted with the middle term)\n",
      "\n"
     ]
    }
   ],
   "source": [
    "for i in range(len(lis)):\n",
    "    synind = lis[i].text.find('synon')\n",
    "    t = lis[i].text[:synind]\n",
    "    \n",
    "    quoind = t.find(\"'\")\n",
    "    if quoind != -1:\n",
    "        print(t[:quoind])       \n",
    "        print('_'+t[quoind:]+'_',end='\\n\\n')\n",
    "    else:\n",
    "        print(t,end='\\n\\n')"
   ]
  },
  {
   "cell_type": "code",
   "execution_count": 8,
   "metadata": {},
   "outputs": [],
   "source": [
    "outstring = \"\"\n",
    "for i in range(len(lis)):\n",
    "    synind = lis[i].text.find('synon')\n",
    "    t = lis[i].text[:synind]\n",
    "    \n",
    "    quoind = t.find(\"'\")\n",
    "    if quoind != -1:\n",
    "        outstring+=(t[:quoind]+'\\n')       \n",
    "        outstring+=('_'+t[quoind:]+'_'+'\\n\\n')\n",
    "    else:\n",
    "        outstring+=(t+'\\n\\n')"
   ]
  },
  {
   "cell_type": "code",
   "execution_count": 9,
   "metadata": {},
   "outputs": [
    {
     "name": "stdout",
     "output_type": "stream",
     "text": [
      "reaching a high or the highest degree; very great.\n",
      "_'extreme cold'_\n",
      "\n",
      "furthest from the centre or a given point.\n",
      "_'the extreme north-west of Scotland'_\n",
      "\n",
      "either of two abstract things that are as different from each other as possible.\n",
      "_'we represented opposite extremes of college society—he a member of the Old Guard, I one of the radicals'_\n",
      "\n",
      "the subject or predicate in a proposition, or the major or minor term in a syllogism (as contrasted with the middle term)\n",
      "\n",
      "\n"
     ]
    }
   ],
   "source": [
    "print(outstring)"
   ]
  },
  {
   "cell_type": "code",
   "execution_count": null,
   "metadata": {},
   "outputs": [],
   "source": []
  }
 ],
 "metadata": {
  "kernelspec": {
   "display_name": "webscrape-22-12-20",
   "language": "python",
   "name": "python3"
  },
  "language_info": {
   "codemirror_mode": {
    "name": "ipython",
    "version": 3
   },
   "file_extension": ".py",
   "mimetype": "text/x-python",
   "name": "python",
   "nbconvert_exporter": "python",
   "pygments_lexer": "ipython3",
   "version": "3.11.0"
  },
  "orig_nbformat": 4,
  "vscode": {
   "interpreter": {
    "hash": "da26d0061e735f66305e496b04a89f456c677cedfb3c77d0c548c5cdb6e101ce"
   }
  }
 },
 "nbformat": 4,
 "nbformat_minor": 2
}
